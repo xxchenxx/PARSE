{
 "cells": [
  {
   "cell_type": "code",
   "execution_count": 11,
   "metadata": {},
   "outputs": [],
   "source": [
    "import pickle\n",
    "\n",
    "data_original = pickle.load(open(\"data/csa_function_sets_nn.pkl\", \"rb\"))"
   ]
  },
  {
   "cell_type": "code",
   "execution_count": 12,
   "metadata": {},
   "outputs": [],
   "source": [
    "data_ours = pickle.load(open(\"csa_function_sets_nn.pkl\", \"rb\"))"
   ]
  },
  {
   "cell_type": "code",
   "execution_count": 14,
   "metadata": {},
   "outputs": [
    {
     "data": {
      "text/plain": [
       "['1qhoA_F128',\n",
       " '1qhoA_D228',\n",
       " '1qhoA_A229',\n",
       " '1qhoA_V129',\n",
       " '1qhoA_M330',\n",
       " '1qhoA_W257',\n",
       " '1qhoA_G255',\n",
       " '1qhoA_V230',\n",
       " '1qhoA_R376',\n",
       " '1qhoA_D329',\n",
       " '1qhoA_R226',\n",
       " '1qhoA_N327',\n",
       " '1qhoA_E256',\n",
       " '1qhoA_N371',\n",
       " '1qhoA_Y258',\n",
       " '1qhoA_H328',\n",
       " '1qhoA_I227']"
      ]
     },
     "execution_count": 14,
     "metadata": {},
     "output_type": "execute_result"
    }
   ],
   "source": [
    "data_original['glucan 1,4-alpha-maltohydrolase']"
   ]
  },
  {
   "cell_type": "code",
   "execution_count": 15,
   "metadata": {},
   "outputs": [
    {
     "data": {
      "text/plain": [
       "['1qhoA_E256', '1qhoA_D329', '1qhoA_D228']"
      ]
     },
     "execution_count": 15,
     "metadata": {},
     "output_type": "execute_result"
    }
   ],
   "source": [
    "data_ours['glucan 1,4-alpha-maltohydrolase']"
   ]
  },
  {
   "cell_type": "code",
   "execution_count": 16,
   "metadata": {},
   "outputs": [],
   "source": [
    "data_2_original = pickle.load(open(\"data/csa_site_db_nn.pkl\", \"rb\"))"
   ]
  },
  {
   "cell_type": "code",
   "execution_count": 22,
   "metadata": {},
   "outputs": [
    {
     "data": {
      "text/plain": [
       "dict_keys(['embeddings', 'pdbs', 'resids', 'sites', 'sources'])"
      ]
     },
     "execution_count": 22,
     "metadata": {},
     "output_type": "execute_result"
    }
   ],
   "source": [
    "data_2_original.keys()"
   ]
  },
  {
   "cell_type": "code",
   "execution_count": 30,
   "metadata": {},
   "outputs": [
    {
     "data": {
      "text/plain": [
       "array(['F128', 'I227', 'D228', 'R226', 'A229', 'V230', 'V129', 'G255',\n",
       "       'E256', 'W257', 'Y258', 'N327', 'H328', 'D329', 'M330', 'N371',\n",
       "       'R376'], dtype='<U5')"
      ]
     },
     "execution_count": 30,
     "metadata": {},
     "output_type": "execute_result"
    }
   ],
   "source": [
    "data_2_original['resids'][data_2_original['pdbs'] == '1qhoA']"
   ]
  },
  {
   "cell_type": "code",
   "execution_count": 25,
   "metadata": {},
   "outputs": [
    {
     "data": {
      "text/plain": [
       "26157"
      ]
     },
     "execution_count": 25,
     "metadata": {},
     "output_type": "execute_result"
    }
   ],
   "source": [
    "sum([len(data_original[key]) for key in data_original])"
   ]
  },
  {
   "cell_type": "code",
   "execution_count": 26,
   "metadata": {},
   "outputs": [
    {
     "data": {
      "text/plain": [
       "4798"
      ]
     },
     "execution_count": 26,
     "metadata": {},
     "output_type": "execute_result"
    }
   ],
   "source": [
    "sum([len(data_ours[key]) for key in data_ours])"
   ]
  }
 ],
 "metadata": {
  "kernelspec": {
   "display_name": "torch2",
   "language": "python",
   "name": "python3"
  },
  "language_info": {
   "codemirror_mode": {
    "name": "ipython",
    "version": 3
   },
   "file_extension": ".py",
   "mimetype": "text/x-python",
   "name": "python",
   "nbconvert_exporter": "python",
   "pygments_lexer": "ipython3",
   "version": "3.9.18"
  }
 },
 "nbformat": 4,
 "nbformat_minor": 2
}
